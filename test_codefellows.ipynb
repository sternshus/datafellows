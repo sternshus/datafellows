{
 "cells": [
  {
   "cell_type": "markdown",
   "metadata": {
    "collapsed": true,
    "slideshow": {
     "slide_type": "slide"
    }
   },
   "source": [
    "# Galileo\n",
    "<img src=\"img/galileo.jpg\" alt=\"galileo\" style=\"width: 800px;\"/>\n",
    "https://commons.wikimedia.org/wiki/File:Chart_by_Galileo_purchased_in_florence_Wellcome_M0010012.jpg"
   ]
  },
  {
   "cell_type": "markdown",
   "metadata": {
    "slideshow": {
     "slide_type": "slide"
    }
   },
   "source": [
    "# Da Vinci\n",
    "<img src=\"img/davinci.jpg\" alt=\"davinci\" style=\"width: 800px;\"/>\n",
    "https://en.wikipedia.org/wiki/Science_and_inventions_of_Leonardo_da_Vinci"
   ]
  },
  {
   "cell_type": "markdown",
   "metadata": {
    "slideshow": {
     "slide_type": "slide"
    }
   },
   "source": [
    "# Babbage & Lovelace"
   ]
  },
  {
   "cell_type": "markdown",
   "metadata": {
    "slideshow": {
     "slide_type": "subslide"
    }
   },
   "source": [
    "<img style=\"float: left;\" src=\"img/babbage.gif\" alt=\"babbage\" style=\"width: 800px;\"/>\n",
    "https://www.flickr.com/photos/maximusrex/5791181261"
   ]
  },
  {
   "cell_type": "markdown",
   "metadata": {
    "slideshow": {
     "slide_type": "subslide"
    }
   },
   "source": [
    "<img src=\"img/lovelace_bernoulli.jpg\" alt=\"lovelace\" style=\"width: 800px;\"/>\n",
    "https://en.wikipedia.org/wiki/File:Diagram_for_the_computation_of_Bernoulli_numbers.jpg"
   ]
  },
  {
   "cell_type": "code",
   "execution_count": null,
   "metadata": {
    "collapsed": true,
    "slideshow": {
     "slide_type": "slide"
    }
   },
   "outputs": [],
   "source": [
    "%%bash\n",
    "#entire cell is bash\n",
    "pip install pytest\n",
    "pip install pytest-ipynb "
   ]
  },
  {
   "cell_type": "code",
   "execution_count": null,
   "metadata": {
    "collapsed": true,
    "slideshow": {
     "slide_type": "slide"
    }
   },
   "outputs": [],
   "source": [
    "#line after bang is bash\n",
    "!sudo apt-get nodejs\n",
    "#n.b. not on mybinder.org\n"
   ]
  },
  {
   "cell_type": "code",
   "execution_count": null,
   "metadata": {
    "collapsed": false,
    "slideshow": {
     "slide_type": "slide"
    }
   },
   "outputs": [],
   "source": [
    "%%javascript\n",
    "//Hah we could actually write this in javascript...but where's the fun inefun??"
   ]
  },
  {
   "cell_type": "markdown",
   "metadata": {
    "slideshow": {
     "slide_type": "slide"
    }
   },
   "source": [
    "# Fibonacci Sequence"
   ]
  },
  {
   "cell_type": "markdown",
   "metadata": {
    "slideshow": {
     "slide_type": "slide"
    }
   },
   "source": [
    "What is a [Fibonacci Number](https://en.wikipedia.org/wiki/Fibonacci_number)?"
   ]
  },
  {
   "cell_type": "markdown",
   "metadata": {
    "slideshow": {
     "slide_type": "subslide"
    }
   },
   "source": [
    "Ok so mathematically: $F_n = F_{n-1} + F_{n-2}$"
   ]
  },
  {
   "cell_type": "markdown",
   "metadata": {
    "slideshow": {
     "slide_type": "subslide"
    }
   },
   "source": [
    "Let's start with a set of tests..."
   ]
  },
  {
   "cell_type": "code",
   "execution_count": null,
   "metadata": {
    "collapsed": false,
    "slideshow": {
     "slide_type": "slide"
    }
   },
   "outputs": [],
   "source": [
    "'''test fib'''\n",
    "assert fib(0) == 0\n",
    "assert fib(1) == 1\n",
    "assert fib(2) == 1\n",
    "assert fib(3) == 2\n",
    "assert fib(4) == 3\n",
    "assert fib(5) == 5\n",
    "assert fib(6) == 8\n",
    "assert fib(7) == 13\n",
    "assert fib(8) == 21\n"
   ]
  },
  {
   "cell_type": "code",
   "execution_count": null,
   "metadata": {
    "collapsed": true,
    "slideshow": {
     "slide_type": "subslide"
    }
   },
   "outputs": [],
   "source": [
    "#this searches entire directory for test* doc string ... can be slow\n",
    "!py.test\n",
    "#n.b. F means finished\n",
    "#show how to hide output ^m + o  && get help ^m + h"
   ]
  },
  {
   "cell_type": "markdown",
   "metadata": {
    "slideshow": {
     "slide_type": "subslide"
    }
   },
   "source": [
    "For this class, we'll run tests in a preset function..."
   ]
  },
  {
   "cell_type": "code",
   "execution_count": null,
   "metadata": {
    "collapsed": true,
    "slideshow": {
     "slide_type": "subslide"
    }
   },
   "outputs": [],
   "source": [
    "#for faster results...\n",
    "def fibassert(fibf):\n",
    "    assert fibf(0) == 0\n",
    "    print('''fibonacci(0) is 0''')\n",
    "    assert fibf(1) == 1\n",
    "    print('''fibonacci(1) is 1''')\n",
    "    assert fibf(2) == 1\n",
    "    print('''fibonacci(2) is 1''')\n",
    "    assert fibf(3) == 2\n",
    "    print('''fibonacci(3) is 2''')\n",
    "    assert fibf(4) == 3\n",
    "    print('''fibonacci(4) is 3''')\n",
    "    assert fibf(5) == 5\n",
    "    print('''fibonacci(5) is 5''')\n",
    "    assert fibf(6) == 8\n",
    "    print('''fibonacci(6) is 8''')\n",
    "    assert fibf(7) == 13\n",
    "    print('''fibonacci(7) is 13''')\n",
    "    assert fibf(8) == 21\n",
    "    print('''fibonacci(8) is 21''')"
   ]
  },
  {
   "cell_type": "markdown",
   "metadata": {
    "slideshow": {
     "slide_type": "slide"
    }
   },
   "source": [
    "so in pseudocode:\n",
    "```python\n",
    "fib(n) = fib(n-1) + fib(n-2)\n",
    "```\n",
    "\n",
    "oh hey... highlighting pseudocode"
   ]
  },
  {
   "cell_type": "code",
   "execution_count": null,
   "metadata": {
    "collapsed": false,
    "slideshow": {
     "slide_type": "subslide"
    }
   },
   "outputs": [],
   "source": [
    "def fib(n):\n",
    "    return fib(n - 1) + fib (n - 2)\n",
    "\n",
    "fibassert(fib)"
   ]
  },
  {
   "cell_type": "markdown",
   "metadata": {
    "slideshow": {
     "slide_type": "subslide"
    }
   },
   "source": [
    "ouch ...\n",
    "blowing chunks, yes the computer just vomited all over us ...\n",
    "Why?"
   ]
  },
  {
   "cell_type": "code",
   "execution_count": null,
   "metadata": {
    "collapsed": false,
    "slideshow": {
     "slide_type": "subslide"
    }
   },
   "outputs": [],
   "source": [
    "def fib(n):\n",
    "  '''calculate the fibonacci number for int n and return int '''  \n",
    "  if (n == 0): \n",
    "    f = 0\n",
    "  elif (n == 1) or (n == 2): \n",
    "    f = 1 \n",
    "  else: \n",
    "    f = fib(n - 1) + fib (n - 2)\n",
    "  return f\n",
    "\n",
    "fibassert(fib)"
   ]
  },
  {
   "cell_type": "markdown",
   "metadata": {
    "slideshow": {
     "slide_type": "subslide"
    }
   },
   "source": [
    "Ok this is really slow.  \n",
    "How slow is it?\n"
   ]
  },
  {
   "cell_type": "code",
   "execution_count": null,
   "metadata": {
    "collapsed": false,
    "slideshow": {
     "slide_type": "slide"
    }
   },
   "outputs": [],
   "source": [
    "%%timeit -n 1000\n",
    "fib(20)"
   ]
  },
  {
   "cell_type": "markdown",
   "metadata": {
    "slideshow": {
     "slide_type": "subslide"
    }
   },
   "source": [
    "Too slow ...\n",
    "\n",
    "* Can we go faster?\n",
    "\n",
    "* What are we calulating?\n",
    "\n",
    "* What if we only calulated once?\n",
    "\n",
    "* What built in data structure can we use?"
   ]
  },
  {
   "cell_type": "code",
   "execution_count": null,
   "metadata": {
    "collapsed": true,
    "slideshow": {
     "slide_type": "subslide"
    }
   },
   "outputs": [],
   "source": [
    "memo = {}\n",
    "def fib_memoized(n):\n",
    "  '''calculate the fibonacci number for int n and return int '''\n",
    "  if (n in memo): return memo[n]\n",
    "  if (n == 0): \n",
    "    f = 0\n",
    "  elif (n == 1) or (n == 2): \n",
    "    f = 1 \n",
    "  else:\n",
    "    f = fib(n - 1) + fib (n - 2)\n",
    "  memo[n] = f\n",
    "  return f"
   ]
  },
  {
   "cell_type": "code",
   "execution_count": null,
   "metadata": {
    "collapsed": true,
    "slideshow": {
     "slide_type": "slide"
    }
   },
   "outputs": [],
   "source": [
    "fibassert(fib_memoized)"
   ]
  },
  {
   "cell_type": "markdown",
   "metadata": {
    "slideshow": {
     "slide_type": "slide"
    }
   },
   "source": [
    "How slow is it now?"
   ]
  },
  {
   "cell_type": "code",
   "execution_count": null,
   "metadata": {
    "collapsed": false,
    "slideshow": {
     "slide_type": "subslide"
    }
   },
   "outputs": [],
   "source": [
    "%%timeit -n 1000\n",
    "fib_memoized(20)"
   ]
  },
  {
   "cell_type": "markdown",
   "metadata": {
    "slideshow": {
     "slide_type": "slide"
    }
   },
   "source": [
    "There is a faster algorithm --look up [Knuth](https://en.wikipedia.org/wiki/Donald_Knuth)\n",
    "And other ways to do this in Python:\n",
    "[Warning: code from the net --do not copy and paste](https://technobeans.wordpress.com/2012/04/16/5-ways-of-fibonacci-in-python/)"
   ]
  },
  {
   "cell_type": "code",
   "execution_count": null,
   "metadata": {
    "collapsed": true,
    "slideshow": {
     "slide_type": "slide"
    }
   },
   "outputs": [],
   "source": [
    "Thank you.\n",
    "\n",
    "Questions?"
   ]
  }
 ],
 "metadata": {
  "celltoolbar": "Slideshow",
  "kernelspec": {
   "display_name": "Python 3",
   "language": "python",
   "name": "python3"
  },
  "language_info": {
   "codemirror_mode": {
    "name": "ipython",
    "version": 3
   },
   "file_extension": ".py",
   "mimetype": "text/x-python",
   "name": "python",
   "nbconvert_exporter": "python",
   "pygments_lexer": "ipython3",
   "version": "3.5.1"
  }
 },
 "nbformat": 4,
 "nbformat_minor": 0
}
